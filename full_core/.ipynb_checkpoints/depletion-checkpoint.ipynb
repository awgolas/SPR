{
 "cells": [
  {
   "cell_type": "code",
   "execution_count": 1,
   "metadata": {},
   "outputs": [],
   "source": [
    "import openmc\n",
    "import openmc.deplete\n",
    "import numpy as np\n",
    "import matplotlib\n",
    "%matplotlib inline\n",
    "import matplotlib.pyplot as plt\n",
    "import os\n",
    "import matplotlib.animation as animation\n",
    "from mpl_toolkits.mplot3d import Axes3D"
   ]
  },
  {
   "cell_type": "code",
   "execution_count": 2,
   "metadata": {},
   "outputs": [],
   "source": [
    "results = openmc.deplete.ResultsList.from_hdf5('depletion_results.h5')"
   ]
  },
  {
   "cell_type": "code",
   "execution_count": 3,
   "metadata": {},
   "outputs": [],
   "source": [
    "time_steps = results.get_eigenvalue()[0]\n",
    "k_vals = results.get_eigenvalue()[1][:,0]\n",
    "k_errs = results.get_eigenvalue()[1][:,1]"
   ]
  },
  {
   "cell_type": "code",
   "execution_count": 4,
   "metadata": {},
   "outputs": [
    {
     "data": {
      "text/plain": [
       "<ErrorbarContainer object of 3 artists>"
      ]
     },
     "execution_count": 4,
     "metadata": {},
     "output_type": "execute_result"
    },
    {
     "data": {
      "image/png": "[encoded data removed]",
      "text/plain": [
       "<Figure size 432x288 with 1 Axes>"
      ]
     },
     "metadata": {},
     "output_type": "display_data"
    }
   ],
   "source": [
    "plt.errorbar(time_steps, k_vals, yerr=k_errs, fmt='o')"
   ]
  },
  {
   "cell_type": "code",
   "execution_count": 5,
   "metadata": {},
   "outputs": [
    {
     "data": {
      "text/plain": [
       "array([0.05938897, 0.05812301, 0.05903926, 0.05826999, 0.0586099 ,\n",
       "       0.05899708, 0.0585747 , 0.05927247, 0.05911495, 0.05869056,\n",
       "       0.05853126, 0.0590662 , 0.05853219, 0.05835901, 0.05891202,\n",
       "       0.05771219, 0.0591495 , 0.05869325, 0.05826938, 0.05941339])"
      ]
     },
     "execution_count": 5,
     "metadata": {},
     "output_type": "execute_result"
    }
   ],
   "source": [
    "results.get_depletion_time()"
   ]
  },
  {
   "cell_type": "code",
   "execution_count": 6,
   "metadata": {},
   "outputs": [],
   "source": [
    "nucs = list(results[0].nuc_to_ind.keys())"
   ]
  },
  {
   "cell_type": "code",
   "execution_count": 8,
   "metadata": {},
   "outputs": [],
   "source": [
    "#for i in range(1134):\n",
    "#    results.get_reaction_rate(str(i), 'U235', 'fission')\n",
    "mats = ['U235', 'U233', 'Pu239']\n",
    "skips = ['10000', '10001', '10002', '10003', '10004']\n",
    "#print(mats[0])\n",
    "fiss_dict = {}\n",
    "for m in mats:\n",
    "    fiss_dict[m] = []\n",
    "    for i in range(1, 11346):\n",
    "        if str(i) in skips: continue\n",
    "        fiss_dict[m].append(results.get_reaction_rate(str(i), m, 'fission')[1])"
   ]
  },
  {
   "cell_type": "code",
   "execution_count": 9,
   "metadata": {},
   "outputs": [],
   "source": [
    "u_5 = np.asarray(fiss_dict['U235'])"
   ]
  },
  {
   "cell_type": "code",
   "execution_count": 104,
   "metadata": {},
   "outputs": [],
   "source": [
    "non_applicable = [43500.0, 0.0]\n",
    "nuc_dict = {}\n",
    "for nuc in nucs:\n",
    "    num = results.get_atoms('3857', nuc)[1][20]\n",
    "    if num == : continue\n",
    "    nuc_dict[nuc] = num"
   ]
  },
  {
   "cell_type": "code",
   "execution_count": 112,
   "metadata": {},
   "outputs": [
    {
     "data": {
      "text/plain": [
       "3820"
      ]
     },
     "execution_count": 112,
     "metadata": {},
     "output_type": "execute_result"
    }
   ],
   "source": [
    "len(list(nuc_dict.keys()))"
   ]
  },
  {
   "cell_type": "code",
   "execution_count": 66,
   "metadata": {},
   "outputs": [],
   "source": [
    "t_0_fiss_235 = u_5[:,0]#.reshape((10,1134))\n",
    "z_0 = t_0_fiss_235[:1134]\n",
    "z_1 = t_0_fiss_235[1134:2268]\n",
    "z_2 = t_0_fiss_235[1134*2:1134*3]\n",
    "z_3 = t_0_fiss_235[1134*3:1134*4]\n",
    "z_4 = t_0_fiss_235[1134*4:1134*5]\n",
    "z_5 = t_0_fiss_235[1134*5:1134*6]\n",
    "z_6 = t_0_fiss_235[1134*6:1134*7]\n",
    "z_7 = t_0_fiss_235[1134*7:1134*8]\n",
    "z_8 = t_0_fiss_235[1134*8:1134*9]\n",
    "z_9 = t_0_fiss_235[1134*9:]"
   ]
  },
  {
   "cell_type": "code",
   "execution_count": 83,
   "metadata": {},
   "outputs": [],
   "source": [
    "power_3d = u_5[:,0].reshape((10,1134))"
   ]
  },
  {
   "cell_type": "code",
   "execution_count": 16,
   "metadata": {},
   "outputs": [],
   "source": [
    "core_map = \"\"\"\n",
    "f, f, f, f, f, f, f, f, f, f, f, f, f, f, f, f, f, f, f, f, f, f, f, f, f, f, f, f, f, f, f, f, g, g, g, g, g, g, f, f, f, f, f, f, f, f, f, f, f, f, f, f, f, f, f, f, f, f, f, f, f, f, f, f, f, f, f, f, f, \n",
    "f, f, f, f, f, f, f, f, f, f, f, f, f, f, f, f, f, f, f, f, f, f, f, f, f, f, f, f, f, g, g, g, g, g, g, g, g, g, g, g, g, f, f, f, f, f, f, f, f, f, f, f, f, f, f, f, f, f, f, f, f, f, f, f, f, f, f, f, f,\n",
    "f, f, f, f, f, f, f, f, f, f, f, f, f, f, f, f, f, f, f, f, f, f, f, f, f, f, g, g, g, g, g, g, g, g, g, g, g, g, g, g, g, g, g, g, f, f, f, f, f, f, f, f, f, f, f, f, f, f, f, f, f, f, f, f, f, f, f, f, f,\n",
    "f, f, f, f, f, f, f, f, f, f, f, f, f, f, f, f, f, f, f, f, f, f, f, g, g, g, g, g, g, g, g, g, g, g, g, g, g, g, g, g, g, g, g, g, g, g, g, f, f, f, f, f, f, f, f, f, f, f, f, f, f, f, f, f, f, f, f, f, f, \n",
    "f, f, f, f, f, f, f, f, f, f, f, f, f, f, f, f, f, f, f, f, g, g, g, g, g, g, g, g, g, g, g, g, g, g, g, g, g, g, g, g, g, g, g, g, g, g, g, g, g, g, f, f, f, f, f, f, f, f, f, f, f, f, f, f, f, f, f, f, f, \n",
    "f, f, f, f, f, f, f, f, f, f, f, f, f, f, f, f, f, g, g, g, g, g, g, g, g, g, g, g, g, g, g, g, g, g, g, g, g, g, g, g, g, g, g, g, g, g, g, g, g, g, g, g, g, f, f, f, f, f, f, f, f, f, f, f, f, f, f, f, f,\n",
    "f, f, f, f, f, f, f, f, f, f, f, f, f, f, g, g, g, g, g, g, g, g, g, g, g, g, g, g, g, g, g, g, g, g, g, g, g, g, g, g, g, g, g, g, g, g, g, g, g, g, g, g, g, g, g, g, f, f, f, f, f, f, f, f, f, f, f, f, f,\n",
    "f, f, f, f, f, f, f, f, f, f, f, g, g, g, g, g, g, g, g, g, g, g, g, g, g, g, g, g, g, g, g, g, g, g, g, g, g, g, g, g, g, g, g, g, g, g, g, g, g, g, g, g, g, g, g, g, g, g, g, f, f, f, f, f, f, f, f, f, f,\n",
    "f, f, f, f, f, f, f, f, g, g, g, g, g, g, g, g, g, g, g, g, g, g, g, g, g, g, g, g, g, g, g, g, g, g, g, g, g, g, g, g, g, g, g, g, g, g, g, g, g, g, g, g, g, g, g, g, g, g, g, g, g, g, f, f, f, f, f, f, f,\n",
    "f, f, f, f, f, g, g, g, g, g, g, g, g, g, g, g, g, g, g, g, g, g, g, g, g, g, g, g, g, g, g, g, g, g, g, g, g, g, g, g, g, g, g, g, g, g, g, g, g, g, g, g, g, g, g, g, g, g, g, g, g, g, g, g, g, f, f, f, f,\n",
    "f, f, g, g, g, g, g, g, g, g, g, g, g, g, g, g, g, g, g, g, g, g, g, g, g, g, g, g, g, g, g, g, g, g, g, g, g, g, g, g, g, g, g, g, g, g, g, g, g, g, g, g, g, g, g, g, g, g, g, g, g, g, g, g, g, g, g, g, f,\n",
    "f, g, g, g, g, g, g, g, g, g, g, g, g, g, g, g, g, g, g, g, g, g, g, g, g, g, g, g, g, g, g, g, g, g, g, g, g, g, g, g, g, g, g, g, g, g, g, g, g, g, g, g, g, g, g, g, g, g, g, g, g, g, g, g, g, g, g, g, g,\n",
    "g, g, g, g, g, g, g, g, g, g, g, g, g, g, g, g, g, g, g, g, g, g, g, g, g, g, g, g, g, g, g, g, g, g, g, g, g, g, g, g, g, g, g, g, g, g, g, g, g, g, g, g, g, g, g, g, g, g, g, g, g, g, g, g, g, g, g, g, g,\n",
    "g, g, g, g, g, g, g, g, g, g, g, g, g, g, g, g, g, g, g, g, g, g, g, g, g, g, g, g, g, g, g, g, g, g, g, g, g, g, g, g, g, g, g, g, g, g, g, g, g, g, g, g, g, g, g, g, g, g, g, g, g, g, g, g, g, g, g, g, g, \n",
    "g, g, g, g, g, g, g, g, g, g, g, g, g, g, g, g, g, g, g, g, g, g, g, g, g, g, g, g, g, g, g, g, g, g, g, g, g, g, g, g, g, g, g, g, g, g, g, g, g, g, g, g, g, g, g, g, g, g, g, g, g, g, g, g, g, g, g, g, g,\n",
    "g, g, g, g, g, g, g, g, g, g, g, g, g, g, g, g, g, g, g, g, g, g, g, g, g, g, g, g, g, g, g, g, g, g, g, g, g, g, g, g, g, g, g, g, g, g, g, g, g, g, g, g, g, g, g, g, g, g, g, g, g, g, g, g, g, g, g, g, g, \n",
    "g, g, g, g, g, g, g, g, g, g, g, g, g, g, g, g, g, g, g, g, g, g, g, g, g, g, g, g, g, g, g, g, g, g, g, g, g, g, g, g, g, g, g, g, g, g, g, g, g, g, g, g, g, g, g, g, g, g, g, g, g, g, g, g, g, g, g, g, g,\n",
    "g, g, g, g, g, g, g, g, g, g, g, g, g, g, g, g, g, g, g, g, g, g, g, g, g, g, g, g, g, g, g, g, g, g, g, g, g, g, g, g, g, g, g, g, g, g, g, g, g, g, g, g, g, g, g, g, g, g, g, g, g, g, g, g, g, g, g, g, g, \n",
    "g, g, g, g, g, g, g, g, g, g, g, g, g, g, g, g, g, g, g, g, g, g, g, g, g, g, g, g, g, g, g, g, f, f, f, f, f, f, g, g, g, g, g, g, g, g, g, g, g, g, g, g, g, g, g, g, g, g, g, g, g, g, g, g, g, g, g, g, g,\n",
    "g, g, g, g, g, g, g, g, g, g, g, g, g, g, g, g, g, g, g, g, g, g, g, g, g, g, g, g, g, f, f, f, f, f, f, f, f, f, f, f, f, g, g, g, g, g, g, g, g, g, g, g, g, g, g, g, g, g, g, g, g, g, g, g, g, g, g, g, g, \n",
    "g, g, g, g, g, g, g, g, g, g, g, g, g, g, g, g, g, g, g, g, g, g, g, g, g, g, g, g, f, f, f, f, f, f, f, f, f, f, f, f, f, f, g, g, g, g, g, g, g, g, g, g, g, g, g, g, g, g, g, g, g, g, g, g, g, g, g, g, g,\n",
    "g, g, g, g, g, g, g, g, g, g, g, g, g, g, g, g, g, g, g, g, g, g, g, g, g, g, g, f, f, f, f, f, f, f, f, f, f, f, f, f, f, f, f, g, g, g, g, g, g, g, g, g, g, g, g, g, g, g, g, g, g, g, g, g, g, g, g, g, g, \n",
    "g, g, g, g, g, g, g, g, g, g, g, g, g, g, g, g, g, g, g, g, g, g, g, g, g, g, g, g, f, f, f, f, f, f, f, f, f, f, f, f, f, f, g, g, g, g, g, g, g, g, g, g, g, g, g, g, g, g, g, g, g, g, g, g, g, g, g, g, g,\n",
    "g, g, g, g, g, g, g, g, g, g, g, g, g, g, g, g, g, g, g, g, g, g, g, g, g, g, g, f, f, f, f, f, f, f, f, f, f, f, f, f, f, f, f, g, g, g, g, g, g, g, g, g, g, g, g, g, g, g, g, g, g, g, g, g, g, g, g, g, g, \n",
    "g, g, g, g, g, g, g, g, g, g, g, g, g, g, g, g, g, g, g, g, g, g, g, g, g, g, g, g, f, f, f, f, f, f, f, f, f, f, f, f, f, f, g, g, g, g, g, g, g, g, g, g, g, g, g, g, g, g, g, g, g, g, g, g, g, g, g, g, g,\n",
    "g, g, g, g, g, g, g, g, g, g, g, g, g, g, g, g, g, g, g, g, g, g, g, g, g, g, g, g, g, f, f, f, f, f, f, f, f, f, f, f, f, g, g, g, g, g, g, g, g, g, g, g, g, g, g, g, g, g, g, g, g, g, g, g, g, g, g, g, g, \n",
    "g, g, g, g, g, g, g, g, g, g, g, g, g, g, g, g, g, g, g, g, g, g, g, g, g, g, g, g, g, g, g, g, f, f, f, f, f, f, g, g, g, g, g, g, g, g, g, g, g, g, g, g, g, g, g, g, g, g, g, g, g, g, g, g, g, g, g, g, g,\n",
    "g, g, g, g, g, g, g, g, g, g, g, g, g, g, g, g, g, g, g, g, g, g, g, g, g, g, g, g, g, g, g, g, g, g, g, g, g, g, g, g, g, g, g, g, g, g, g, g, g, g, g, g, g, g, g, g, g, g, g, g, g, g, g, g, g, g, g, g, g, \n",
    "g, g, g, g, g, g, g, g, g, g, g, g, g, g, g, g, g, g, g, g, g, g, g, g, g, g, g, g, g, g, g, g, g, g, g, g, g, g, g, g, g, g, g, g, g, g, g, g, g, g, g, g, g, g, g, g, g, g, g, g, g, g, g, g, g, g, g, g, g,\n",
    "g, g, g, g, g, g, g, g, g, g, g, g, g, g, g, g, g, g, g, g, g, g, g, g, g, g, g, g, g, g, g, g, g, g, g, g, g, g, g, g, g, g, g, g, g, g, g, g, g, g, g, g, g, g, g, g, g, g, g, g, g, g, g, g, g, g, g, g, g, \n",
    "g, g, g, g, g, g, g, g, g, g, g, g, g, g, g, g, g, g, g, g, g, g, g, g, g, g, g, g, g, g, g, g, g, g, g, g, g, g, g, g, g, g, g, g, g, g, g, g, g, g, g, g, g, g, g, g, g, g, g, g, g, g, g, g, g, g, g, g, g,\n",
    "g, g, g, g, g, g, g, g, g, g, g, g, g, g, g, g, g, g, g, g, g, g, g, g, g, g, g, g, g, g, g, g, g, g, g, g, g, g, g, g, g, g, g, g, g, g, g, g, g, g, g, g, g, g, g, g, g, g, g, g, g, g, g, g, g, g, g, g, g, \n",
    "g, g, g, g, g, g, g, g, g, g, g, g, g, g, g, g, g, g, g, g, g, g, g, g, g, g, g, g, g, g, g, g, g, g, g, g, g, g, g, g, g, g, g, g, g, g, g, g, g, g, g, g, g, g, g, g, g, g, g, g, g, g, g, g, g, g, g, g, g,\n",
    "g, g, g, g, g, g, g, g, g, g, g, g, g, g, g, g, g, g, g, g, g, g, g, g, g, g, g, g, g, g, g, g, g, g, g, g, g, g, g, g, g, g, g, g, g, g, g, g, g, g, g, g, g, g, g, g, g, g, g, g, g, g, g, g, g, g, g, g, g,\n",
    "f, f, g, g, g, g, g, g, g, g, g, g, g, g, g, g, g, g, g, g, g, g, g, g, g, g, g, g, g, g, g, g, g, g, g, g, g, g, g, g, g, g, g, g, g, g, g, g, g, g, g, g, g, g, g, g, g, g, g, g, g, g, g, g, g, g, g, g, f,\n",
    "f, f, f, f, f, g, g, g, g, g, g, g, g, g, g, g, g, g, g, g, g, g, g, g, g, g, g, g, g, g, g, g, g, g, g, g, g, g, g, g, g, g, g, g, g, g, g, g, g, g, g, g, g, g, g, g, g, g, g, g, g, g, g, g, g, f, f, f, f,\n",
    "f, f, f, f, f, f, f, f, g, g, g, g, g, g, g, g, g, g, g, g, g, g, g, g, g, g, g, g, g, g, g, g, g, g, g, g, g, g, g, g, g, g, g, g, g, g, g, g, g, g, g, g, g, g, g, g, g, g, g, g, g, g, f, f, f, f, f, f, f,\n",
    "f, f, f, f, f, f, f, f, f, f, f, g, g, g, g, g, g, g, g, g, g, g, g, g, g, g, g, g, g, g, g, g, g, g, g, g, g, g, g, g, g, g, g, g, g, g, g, g, g, g, g, g, g, g, g, g, g, g, g, f, f, f, f, f, f, f, f, f, f,\n",
    "f, f, f, f, f, f, f, f, f, f, f, f, f, f, g, g, g, g, g, g, g, g, g, g, g, g, g, g, g, g, g, g, g, g, g, g, g, g, g, g, g, g, g, g, g, g, g, g, g, g, g, g, g, g, g, g, f, f, f, f, f, f, f, f, f, f, f, f, f,\n",
    "f, f, f, f, f, f, f, f, f, f, f, f, f, f, f, f, f, g, g, g, g, g, g, g, g, g, g, g, g, g, g, g, g, g, g, g, g, g, g, g, g, g, g, g, g, g, g, g, g, g, g, g, g, f, f, f, f, f, f, f, f, f, f, f, f, f, f, f, f,\n",
    "f, f, f, f, f, f, f, f, f, f, f, f, f, f, f, f, f, f, f, f, g, g, g, g, g, g, g, g, g, g, g, g, g, g, g, g, g, g, g, g, g, g, g, g, g, g, g, g, g, g, f, f, f, f, f, f, f, f, f, f, f, f, f, f, f, f, f, f, f,\n",
    "f, f, f, f, f, f, f, f, f, f, f, f, f, f, f, f, f, f, f, f, f, f, f, g, g, g, g, g, g, g, g, g, g, g, g, g, g, g, g, g, g, g, g, g, g, g, g, f, f, f, f, f, f, f, f, f, f, f, f, f, f, f, f, f, f, f, f, f, f, \n",
    "f, f, f, f, f, f, f, f, f, f, f, f, f, f, f, f, f, f, f, f, f, f, f, f, f, f, g, g, g, g, g, g, g, g, g, g, g, g, g, g, g, g, g, g, f, f, f, f, f, f, f, f, f, f, f, f, f, f, f, f, f, f, f, f, f, f, f, f, f,\n",
    "f, f, f, f, f, f, f, f, f, f, f, f, f, f, f, f, f, f, f, f, f, f, f, f, f, f, f, f, f, g, g, g, g, g, g, g, g, g, g, g, g, f, f, f, f, f, f, f, f, f, f, f, f, f, f, f, f, f, f, f, f, f, f, f, f, f, f, f, f,\n",
    "f, f, f, f, f, f, f, f, f, f, f, f, f, f, f, f, f, f, f, f, f, f, f, f, f, f, f, f, f, f, f, f, g, g, g, g, g, g, f, f, f, f, f, f, f, f, f, f, f, f, f, f, f, f, f, f, f, f, f, f, f, f, f, f, f, f, f, f, f\"\"\"\n",
    "power_3d = []\n",
    "for z in range(10):\n",
    "    power_map = []\n",
    "    c = 0\n",
    "    for i, l in enumerate(core_map.split(',')):\n",
    "        #print(l)\n",
    "        if 'g' in l:\n",
    "            const = t_0_fiss_235[z, int(c/2)]\n",
    "            c = c+1\n",
    "        else:\n",
    "            const = 0.\n",
    "        power_map.append(const)\n",
    "    power_3d.append(np.asarray(power_map).reshape((45,69)))\n",
    "\n",
    "power_3d_array = np.array(power_3d)\n",
    "norm_power_3d = power_3d_array/np.sum(power_3d_array)"
   ]
  },
  {
   "cell_type": "code",
   "execution_count": 17,
   "metadata": {},
   "outputs": [
    {
     "data": {
      "text/plain": [
       "(10, 45, 69)"
      ]
     },
     "execution_count": 17,
     "metadata": {},
     "output_type": "execute_result"
    }
   ],
   "source": [
    "norm_power_3d.shape"
   ]
  },
  {
   "cell_type": "code",
   "execution_count": 18,
   "metadata": {},
   "outputs": [
    {
     "data": {
      "image/png": "[encoded data removed]",
      "text/plain": [
       "<Figure size 432x288 with 1 Axes>"
      ]
     },
     "metadata": {},
     "output_type": "display_data"
    }
   ],
   "source": [
    "def update_plot(i, power_3d_array, plot):\n",
    "    plot[0].remove()\n",
    "    plot[0] = ax.pcolormesh(norm_power_3d[i,:,:], vmin=0.0, vmax=8.704073885087385e-05, cmap=\"magma\")\n",
    "\n",
    "fig = plt.figure()\n",
    "ax = fig.add_subplot(111)\n",
    "frn = 10\n",
    "fps = 10\n",
    "plot = [ax.pcolormesh(norm_power_3d[0,:,:], vmin=0.0, vmax=3.6060417e-5, cmap=\"magma\")]\n",
    "ani = animation.FuncAnimation(fig, update_plot, frn, fargs=(power_3d_array, plot), interval=10000/fps)"
   ]
  },
  {
   "cell_type": "code",
   "execution_count": 138,
   "metadata": {},
   "outputs": [],
   "source": [
    "ani.save('deplete.gif',writer='imagemagick',fps=8)"
   ]
  },
  {
   "cell_type": "code",
   "execution_count": 86,
   "metadata": {},
   "outputs": [
    {
     "name": "stdout",
     "output_type": "stream",
     "text": [
      "(3105,)\n"
     ]
    }
   ],
   "source": [
    "power_map_0 = []\n",
    "c = 0\n",
    "for i, l in enumerate(core_map.split(',')):\n",
    "    #print(l)\n",
    "    if 'g' in l:\n",
    "        const = z_0[int(c/2)]\n",
    "        #print(const)\n",
    "        c = c+1\n",
    "    else:\n",
    "        const = 0.\n",
    "    power_map_0.append(const)\n",
    "    #power_3d.append(np.asarray(power_map).reshape((45,69)))\n",
    "print(np.asarray(power_map_0).shape)\n",
    "power_map_0 = np.asarray(power_map_0).reshape((45,69))"
   ]
  },
  {
   "cell_type": "code",
   "execution_count": 70,
   "metadata": {},
   "outputs": [
    {
     "data": {
      "text/plain": [
       "<matplotlib.collections.QuadMesh at 0x7fb98c8b98d0>"
      ]
     },
     "execution_count": 70,
     "metadata": {},
     "output_type": "execute_result"
    },
    {
     "data": {
      "image/png": "[encoded data removed]",
      "text/plain": [
       "<Figure size 432x288 with 1 Axes>"
      ]
     },
     "metadata": {},
     "output_type": "display_data"
    }
   ],
   "source": [
    "plt.pcolormesh(power_map[31:40,:], cmap=\"magma\")"
   ]
  },
  {
   "cell_type": "code",
   "execution_count": 87,
   "metadata": {
    "scrolled": true
   },
   "outputs": [],
   "source": [
    "power_map = np.asarray([power_map_0, power_map_1])"
   ]
  },
  {
   "cell_type": "code",
   "execution_count": 41,
   "metadata": {},
   "outputs": [
    {
     "data": {
      "text/plain": [
       "[<matplotlib.lines.Line2D at 0x7fb98cd11668>]"
      ]
     },
     "execution_count": 41,
     "metadata": {},
     "output_type": "execute_result"
    },
    {
     "data": {
      "image/png": "[encoded data removed]",
      "text/plain": [
       "<Figure size 432x288 with 1 Axes>"
      ]
     },
     "metadata": {},
     "output_type": "display_data"
    }
   ],
   "source": [
    "z_engy = []\n",
    "for i in range(10):\n",
    "    z_engy.append(np.sum(t_0_fiss_235[i,:]))\n",
    "    \n",
    "z_mean = np.sum(t_0_fiss_235[:,:])/10.\n",
    "    \n",
    "plt.plot(z_engy/z_mean)"
   ]
  },
  {
   "cell_type": "code",
   "execution_count": 92,
   "metadata": {},
   "outputs": [
    {
     "data": {
      "text/plain": [
       "<matplotlib.collections.QuadMesh at 0x7fb98c6d6860>"
      ]
     },
     "execution_count": 92,
     "metadata": {},
     "output_type": "execute_result"
    },
    {
     "data": {
      "image/png": "[encoded data removed]",
      "text/plain": [
       "<Figure size 432x288 with 1 Axes>"
      ]
     },
     "metadata": {},
     "output_type": "display_data"
    }
   ],
   "source": [
    "plt.pcolormesh(power_map[1,:,:], cmap=\"magma\")"
   ]
  },
  {
   "cell_type": "code",
   "execution_count": 96,
   "metadata": {},
   "outputs": [
    {
     "name": "stdout",
     "output_type": "stream",
     "text": [
      "[1.71644800e+13 1.77759255e+13 1.65665046e+13 1.69555037e+13\n",
      " 1.76428931e+13 1.76446051e+13 1.81687651e+13 1.77773517e+13\n",
      " 1.71922149e+13 1.72224400e+13 1.83681449e+13 1.80432131e+13]\n",
      "[1.77374063e+13 1.77759255e+13 1.68903597e+13 1.69555037e+13\n",
      " 1.95752574e+13 1.76446051e+13 1.89589075e+13 1.77773517e+13\n",
      " 1.90750664e+13 1.72224400e+13 1.80396907e+13 1.80432131e+13]\n",
      "[1.77374063e+13 1.75683029e+13 1.68903597e+13 1.73752348e+13\n",
      " 1.95752574e+13 0.00000000e+00 1.89589075e+13 0.00000000e+00\n",
      " 1.90750664e+13 1.85561349e+13 1.80396907e+13 1.78868990e+13]\n",
      "[1.75303065e+13 1.75683029e+13 1.80460269e+13 1.73752348e+13\n",
      " 0.00000000e+00 0.00000000e+00 0.00000000e+00 0.00000000e+00\n",
      " 0.00000000e+00 1.85561349e+13 1.83456995e+13 1.78868990e+13]\n",
      "[1.75303065e+13 1.74532788e+13 1.80460269e+13 0.00000000e+00\n",
      " 0.00000000e+00 0.00000000e+00 0.00000000e+00 0.00000000e+00\n",
      " 0.00000000e+00 0.00000000e+00 1.83456995e+13 1.78819580e+13]\n",
      "[1.71285698e+13 1.74532788e+13 1.90830172e+13 0.00000000e+00\n",
      " 0.00000000e+00 0.00000000e+00 0.00000000e+00 0.00000000e+00\n",
      " 0.00000000e+00 0.00000000e+00 1.77125021e+13 1.78819580e+13]\n",
      "[1.71285698e+13 1.77739659e+13 1.90830172e+13 0.00000000e+00\n",
      " 0.00000000e+00 0.00000000e+00 0.00000000e+00 0.00000000e+00\n",
      " 0.00000000e+00 0.00000000e+00 1.77125021e+13 1.82125537e+13]\n",
      "[1.81733763e+13 1.77739659e+13 0.00000000e+00 0.00000000e+00\n",
      " 0.00000000e+00 0.00000000e+00 0.00000000e+00 0.00000000e+00\n",
      " 0.00000000e+00 0.00000000e+00 0.00000000e+00 1.82125537e+13]\n",
      "[1.81733763e+13 1.84940247e+13 0.00000000e+00 0.00000000e+00\n",
      " 0.00000000e+00 0.00000000e+00 0.00000000e+00 0.00000000e+00\n",
      " 0.00000000e+00 0.00000000e+00 0.00000000e+00 1.89035593e+13]\n",
      "[1.79958972e+13 1.84940247e+13 0.00000000e+00 0.00000000e+00\n",
      " 0.00000000e+00 0.00000000e+00 0.00000000e+00 0.00000000e+00\n",
      " 0.00000000e+00 0.00000000e+00 0.00000000e+00 1.89035593e+13]\n",
      "[1.79958972e+13 1.83481818e+13 0.00000000e+00 0.00000000e+00\n",
      " 0.00000000e+00 0.00000000e+00 0.00000000e+00 0.00000000e+00\n",
      " 0.00000000e+00 0.00000000e+00 0.00000000e+00 1.85462106e+13]\n",
      "[1.77755881e+13 1.83481818e+13 0.00000000e+00 0.00000000e+00\n",
      " 0.00000000e+00 0.00000000e+00 0.00000000e+00 0.00000000e+00\n",
      " 0.00000000e+00 0.00000000e+00 0.00000000e+00 1.85462106e+13]\n",
      "[1.77755881e+13 1.86235398e+13 0.00000000e+00 0.00000000e+00\n",
      " 0.00000000e+00 0.00000000e+00 0.00000000e+00 0.00000000e+00\n",
      " 0.00000000e+00 0.00000000e+00 0.00000000e+00 1.87467579e+13]\n",
      "[1.80706370e+13 1.86235398e+13 1.79311826e+13 0.00000000e+00\n",
      " 0.00000000e+00 0.00000000e+00 0.00000000e+00 0.00000000e+00\n",
      " 0.00000000e+00 0.00000000e+00 1.80807542e+13 1.87467579e+13]\n",
      "[1.80706370e+13 1.78860647e+13 1.79311826e+13 0.00000000e+00\n",
      " 0.00000000e+00 0.00000000e+00 0.00000000e+00 0.00000000e+00\n",
      " 0.00000000e+00 0.00000000e+00 1.80807542e+13 1.83208457e+13]\n",
      "[1.76075669e+13 1.78860647e+13 1.82014886e+13 0.00000000e+00\n",
      " 0.00000000e+00 0.00000000e+00 0.00000000e+00 0.00000000e+00\n",
      " 0.00000000e+00 0.00000000e+00 1.78410068e+13 1.83208457e+13]\n",
      "[1.76075669e+13 1.80282699e+13 1.82014886e+13 1.95540070e+13\n",
      " 0.00000000e+00 0.00000000e+00 0.00000000e+00 0.00000000e+00\n",
      " 0.00000000e+00 1.87901656e+13 1.78410068e+13 1.67245778e+13]\n",
      "[1.79831394e+13 1.80282699e+13 1.80526407e+13 1.95540070e+13\n",
      " 1.84588943e+13 0.00000000e+00 1.91305342e+13 0.00000000e+00\n",
      " 1.77450803e+13 1.87901656e+13 1.70063872e+13 1.67245778e+13]\n",
      "[1.79831394e+13 1.82064656e+13 1.80526407e+13 1.90686782e+13\n",
      " 1.84588943e+13 1.84712941e+13 1.91305342e+13 1.75477914e+13\n",
      " 1.77450803e+13 1.83993891e+13 1.70063872e+13 1.76012543e+13]\n",
      "[1.82781363e+13 1.82064656e+13 1.78130029e+13 1.90686782e+13\n",
      " 1.93927814e+13 1.84712941e+13 1.81720628e+13 1.75477914e+13\n",
      " 1.70252859e+13 1.83993891e+13 1.78111773e+13 1.76012543e+13]\n",
      "[1.82781363e+13 1.82123219e+13 1.78130029e+13 1.87925909e+13\n",
      " 1.93927814e+13 1.92440503e+13 1.81720628e+13 1.82302227e+13\n",
      " 1.70252859e+13 1.72228978e+13 1.78111773e+13 1.78276801e+13]\n"
     ]
    }
   ],
   "source": [
    "for i in range(25,46):\n",
    "    print(power_map[0,16:28,i])"
   ]
  },
  {
   "cell_type": "code",
   "execution_count": null,
   "metadata": {},
   "outputs": [],
   "source": []
  }
 ],
 "metadata": {
  "kernelspec": {
   "display_name": "Python 3",
   "language": "python",
   "name": "python3"
  },
  "language_info": {
   "codemirror_mode": {
    "name": "ipython",
    "version": 3
   },
   "file_extension": ".py",
   "mimetype": "text/x-python",
   "name": "python",
   "nbconvert_exporter": "python",
   "pygments_lexer": "ipython3",
   "version": "3.6.8"
  }
 },
 "nbformat": 4,
 "nbformat_minor": 2
}
