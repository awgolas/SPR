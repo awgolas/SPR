{
 "cells": [
  {
   "cell_type": "code",
   "execution_count": 241,
   "metadata": {},
   "outputs": [],
   "source": [
    "import openmc\n",
    "import numpy as np\n",
    "import matplotlib.pyplot as plt"
   ]
  },
  {
   "cell_type": "code",
   "execution_count": 79,
   "metadata": {},
   "outputs": [],
   "source": [
    "geom = openmc.Geometry.from_xml()"
   ]
  },
  {
   "cell_type": "code",
   "execution_count": 80,
   "metadata": {},
   "outputs": [],
   "source": [
    "uni_base = geom.get_all_universes()[1]"
   ]
  },
  {
   "cell_type": "code",
   "execution_count": 22,
   "metadata": {},
   "outputs": [
    {
     "data": {
      "text/plain": [
       "((18, 13, 1), (-0.257000000000005, 0.6342919257352015, 0.0))"
      ]
     },
     "execution_count": 22,
     "metadata": {},
     "output_type": "execute_result"
    }
   ],
   "source": [
    "lat.find_element((68,32,0))"
   ]
  },
  {
   "cell_type": "code",
   "execution_count": 81,
   "metadata": {
    "scrolled": false
   },
   "outputs": [],
   "source": [
    "lat = geom.get_all_lattices()[5]"
   ]
  },
  {
   "cell_type": "code",
   "execution_count": 90,
   "metadata": {},
   "outputs": [],
   "source": [
    "unis = lat.universes"
   ]
  },
  {
   "cell_type": "code",
   "execution_count": 83,
   "metadata": {},
   "outputs": [
    {
     "data": {
      "text/plain": [
       "HexLattice\n",
       "\tID             =\t5\n",
       "\tName           =\t\n",
       "\tOrientation    =\tx\n",
       "\t# Rings        =\t23\n",
       "\t# Axial        =\t3\n",
       "\tCenter         =\t[0.0, 0.0, 0.0]\n",
       "\tPitch          =\t[2.786, 150.0]\n",
       "\tOuter          =\t4\n",
       "\tUniverses      \n",
       "                      7 7 7 7 7 7 7 7 7 7 8 8 8 7 7 7 7 7 7 7 7 7 7\n",
       "                     7 7 7 7 7 7 7 7 7 8 8 8 8 8 8 7 7 7 7 7 7 7 7 7\n",
       "                    7 7 7 7 7 7 7 7 8 8 8 8 8 8 8 8 8 7 7 7 7 7 7 7 7\n",
       "                   7 7 7 7 7 7 7 8 8 8 8 8 8 8 8 8 8 8 8 7 7 7 7 7 7 7\n",
       "                  7 7 7 7 7 7 8 8 8 8 8 8 8 8 8 8 8 8 8 8 8 7 7 7 7 7 7\n",
       "                 7 7 7 7 7 8 8 8 8 8 8 8 8 8 8 8 8 8 8 8 8 8 8 7 7 7 7 7\n",
       "                7 7 7 7 8 8 8 8 8 8 8 8 8 8 8 8 8 8 8 8 8 8 8 8 8 7 7 7 7\n",
       "               7 7 7 8 8 8 8 8 8 8 8 8 8 8 8 8 8 8 8 8 8 8 8 8 8 8 8 7 7 7\n",
       "              7 7 8 8 8 8 8 8 8 8 8 8 8 8 8 8 8 8 8 8 8 8 8 8 8 8 8 8 8 7 7\n",
       "             7 8 8 8 8 8 8 8 8 8 8 8 8 8 8 8 8 8 8 8 8 8 8 8 8 8 8 8 8 8 8 7\n",
       "            8 8 8 8 8 8 8 8 8 8 8 8 8 8 8 8 8 8 8 8 8 8 8 8 8 8 8 8 8 8 8 8 8\n",
       "           8 8 8 8 8 8 8 8 8 8 8 8 8 8 8 8 8 8 8 8 8 8 8 8 8 8 8 8 8 8 8 8 8 8\n",
       "          8 8 8 8 8 8 8 8 8 8 8 8 8 8 8 8 8 8 8 8 8 8 8 8 8 8 8 8 8 8 8 8 8 8 8\n",
       "         7 8 8 8 8 8 8 8 8 8 8 8 8 8 8 8 8 8 8 8 8 8 8 8 8 8 8 8 8 8 8 8 8 8 8 7\n",
       "        7 8 8 8 8 8 8 8 8 8 8 8 8 8 8 8 8 8 8 8 8 8 8 8 8 8 8 8 8 8 8 8 8 8 8 8 7\n",
       "       7 7 8 8 8 8 8 8 8 8 8 8 8 8 8 8 8 8 8 8 8 8 8 8 8 8 8 8 8 8 8 8 8 8 8 8 7 7\n",
       "      7 7 8 8 8 8 8 8 8 8 8 8 8 8 8 8 8 8 8 8 8 8 8 8 8 8 8 8 8 8 8 8 8 8 8 8 8 7 7\n",
       "     7 7 7 8 8 8 8 8 8 8 8 8 8 8 8 8 8 8 8 8 8 8 8 8 8 8 8 8 8 8 8 8 8 8 8 8 8 7 7 7\n",
       "    7 7 7 8 8 8 8 8 8 8 8 8 8 8 8 8 8 8 8 7 7 7 8 8 8 8 8 8 8 8 8 8 8 8 8 8 8 8 7 7 7\n",
       "   7 7 7 7 8 8 8 8 8 8 8 8 8 8 8 8 8 8 7 7 7 7 7 7 8 8 8 8 8 8 8 8 8 8 8 8 8 8 7 7 7 7\n",
       "  7 7 7 7 8 8 8 8 8 8 8 8 8 8 8 8 8 8 7 7 7 7 7 7 7 8 8 8 8 8 8 8 8 8 8 8 8 8 8 7 7 7 7\n",
       " 7 7 7 7 7 8 8 8 8 8 8 8 8 8 8 8 8 8 7 7 7 7 7 7 7 7 8 8 8 8 8 8 8 8 8 8 8 8 8 7 7 7 7 7\n",
       "7 7 7 7 7 8 8 8 8 8 8 8 8 8 8 8 8 8 8 7 7 7 7 7 7 7 8 8 8 8 8 8 8 8 8 8 8 8 8 8 7 7 7 7 7\n",
       " 7 7 7 7 7 8 8 8 8 8 8 8 8 8 8 8 8 8 7 7 7 7 7 7 7 7 8 8 8 8 8 8 8 8 8 8 8 8 8 7 7 7 7 7\n",
       "  7 7 7 7 8 8 8 8 8 8 8 8 8 8 8 8 8 8 7 7 7 7 7 7 7 8 8 8 8 8 8 8 8 8 8 8 8 8 8 7 7 7 7\n",
       "   7 7 7 7 8 8 8 8 8 8 8 8 8 8 8 8 8 8 7 7 7 7 7 7 8 8 8 8 8 8 8 8 8 8 8 8 8 8 7 7 7 7\n",
       "    7 7 7 8 8 8 8 8 8 8 8 8 8 8 8 8 8 8 8 7 7 7 8 8 8 8 8 8 8 8 8 8 8 8 8 8 8 8 7 7 7\n",
       "     7 7 7 8 8 8 8 8 8 8 8 8 8 8 8 8 8 8 8 8 8 8 8 8 8 8 8 8 8 8 8 8 8 8 8 8 8 7 7 7\n",
       "      7 7 8 8 8 8 8 8 8 8 8 8 8 8 8 8 8 8 8 8 8 8 8 8 8 8 8 8 8 8 8 8 8 8 8 8 8 7 7\n",
       "       7 7 8 8 8 8 8 8 8 8 8 8 8 8 8 8 8 8 8 8 8 8 8 8 8 8 8 8 8 8 8 8 8 8 8 8 7 7\n",
       "        7 8 8 8 8 8 8 8 8 8 8 8 8 8 8 8 8 8 8 8 8 8 8 8 8 8 8 8 8 8 8 8 8 8 8 8 7\n",
       "         7 8 8 8 8 8 8 8 8 8 8 8 8 8 8 8 8 8 8 8 8 8 8 8 8 8 8 8 8 8 8 8 8 8 8 7\n",
       "          8 8 8 8 8 8 8 8 8 8 8 8 8 8 8 8 8 8 8 8 8 8 8 8 8 8 8 8 8 8 8 8 8 8 8\n",
       "           8 8 8 8 8 8 8 8 8 8 8 8 8 8 8 8 8 8 8 8 8 8 8 8 8 8 8 8 8 8 8 8 8 8\n",
       "            8 8 8 8 8 8 8 8 8 8 8 8 8 8 8 8 8 8 8 8 8 8 8 8 8 8 8 8 8 8 8 8 8\n",
       "             7 8 8 8 8 8 8 8 8 8 8 8 8 8 8 8 8 8 8 8 8 8 8 8 8 8 8 8 8 8 8 7\n",
       "              7 7 8 8 8 8 8 8 8 8 8 8 8 8 8 8 8 8 8 8 8 8 8 8 8 8 8 8 8 7 7\n",
       "               7 7 7 8 8 8 8 8 8 8 8 8 8 8 8 8 8 8 8 8 8 8 8 8 8 8 8 7 7 7\n",
       "                7 7 7 7 8 8 8 8 8 8 8 8 8 8 8 8 8 8 8 8 8 8 8 8 8 7 7 7 7\n",
       "                 7 7 7 7 7 8 8 8 8 8 8 8 8 8 8 8 8 8 8 8 8 8 8 7 7 7 7 7\n",
       "                  7 7 7 7 7 7 8 8 8 8 8 8 8 8 8 8 8 8 8 8 8 7 7 7 7 7 7\n",
       "                   7 7 7 7 7 7 7 8 8 8 8 8 8 8 8 8 8 8 8 7 7 7 7 7 7 7\n",
       "                    7 7 7 7 7 7 7 7 8 8 8 8 8 8 8 8 8 7 7 7 7 7 7 7 7\n",
       "                     7 7 7 7 7 7 7 7 7 8 8 8 8 8 8 7 7 7 7 7 7 7 7 7\n",
       "                      7 7 7 7 7 7 7 7 7 7 8 8 8 7 7 7 7 7 7 7 7 7 7\n",
       "                      7 7 7 7 7 7 7 7 7 7 7 1 1 1 7 7 7 7 7 7 7 7 7\n",
       "                     7 7 7 7 7 7 7 7 7 7 1 1 1 1 1 1 7 7 7 7 7 7 7 7\n",
       "                    7 7 7 7 7 7 7 7 7 1 1 1 1 1 1 1 1 1 7 7 7 7 7 7 7\n",
       "                   7 7 7 7 7 7 7 7 1 1 1 1 1 1 1 1 1 1 1 1 7 7 7 7 7 7\n",
       "                  7 7 7 7 7 7 7 1 1 1 1 1 1 1 1 1 1 1 1 1 1 1 7 7 7 7 7\n",
       "                 7 7 7 7 7 7 1 1 1 1 1 1 1 1 1 1 1 1 1 1 1 1 1 1 7 7 7 7\n",
       "                7 7 7 7 7 1 1 1 1 1 1 1 1 1 1 1 1 1 1 1 1 1 1 1 1 1 7 7 7\n",
       "               7 7 7 7 1 1 1 1 1 1 1 1 1 1 1 1 1 1 1 1 1 1 1 1 1 1 1 1 7 7\n",
       "              7 7 7 1 1 1 1 1 1 1 1 1 1 1 1 1 1 1 1 1 1 1 1 1 1 1 1 1 1 1 7\n",
       "             7 7 1 1 1 1 1 1 1 1 1 1 1 1 1 1 1 1 1 1 1 1 1 1 1 1 1 1 1 1 1 1\n",
       "            7 1 1 1 1 1 1 1 1 1 1 1 1 1 1 1 1 1 1 1 1 1 1 1 1 1 1 1 1 1 1 1 1\n",
       "           1 1 1 1 1 1 1 1 1 1 1 1 1 1 1 1 1 1 1 1 1 1 1 1 1 1 1 1 1 1 1 1 1 1\n",
       "          1 1 1 1 1 1 1 1 1 1 1 1 1 1 1 1 1 1 1 1 1 1 1 1 1 1 1 1 1 1 1 1 1 1 1\n",
       "         1 7 1 1 1 1 1 1 1 1 1 1 1 1 1 1 1 1 1 1 1 1 1 1 1 1 1 1 1 1 1 1 1 1 1 1\n",
       "        7 7 1 1 1 1 1 1 1 1 1 1 1 1 1 1 1 1 1 1 1 1 1 1 1 1 1 1 1 1 1 1 1 1 1 1 1\n",
       "       7 7 7 1 1 1 1 1 1 1 1 1 1 1 1 1 1 1 1 1 1 1 1 1 1 1 1 1 1 1 1 1 1 1 1 1 1 7\n",
       "      7 7 7 1 1 1 1 1 1 1 1 1 1 1 1 1 1 1 1 1 1 1 1 1 1 1 1 1 1 1 1 1 1 1 1 1 1 1 7\n",
       "     7 7 7 7 1 1 1 1 1 1 1 1 1 1 1 1 1 1 1 1 1 1 1 1 1 1 1 1 1 1 1 1 1 1 1 1 1 1 7 7\n",
       "    7 7 7 7 1 1 1 1 1 1 1 1 1 1 1 1 1 1 1 1 7 7 7 1 1 1 1 1 1 1 1 1 1 1 1 1 1 1 1 7 7\n",
       "   7 7 7 7 7 1 1 1 1 1 1 1 1 1 1 1 1 1 1 7 7 7 7 7 7 1 1 1 1 1 1 1 1 1 1 1 1 1 1 7 7 7\n",
       "  7 7 7 7 7 1 1 1 1 1 1 1 1 1 1 1 1 1 1 7 7 7 7 7 7 7 1 1 1 1 1 1 1 1 1 1 1 1 1 1 7 7 7\n",
       " 7 7 7 7 7 7 1 1 1 1 1 1 1 1 1 1 1 1 1 7 7 7 7 7 7 7 7 1 1 1 1 1 1 1 1 1 1 1 1 1 7 7 7 7\n",
       "7 7 7 7 7 7 1 1 1 1 1 1 1 1 1 1 1 1 1 1 7 7 7 7 7 7 7 1 1 1 1 1 1 1 1 1 1 1 1 1 1 7 7 7 7\n",
       " 7 7 7 7 7 7 1 1 1 1 1 1 1 1 1 1 1 1 1 7 7 7 7 7 7 7 7 1 1 1 1 1 1 1 1 1 1 1 1 1 7 7 7 7\n",
       "  7 7 7 7 7 1 1 1 1 1 1 1 1 1 1 1 1 1 1 7 7 7 7 7 7 7 1 1 1 1 1 1 1 1 1 1 1 1 1 1 7 7 7\n",
       "   7 7 7 7 7 1 1 1 1 1 1 1 1 1 1 1 1 1 1 7 7 7 7 7 7 1 1 1 1 1 1 1 1 1 1 1 1 1 1 7 7 7\n",
       "    7 7 7 7 1 1 1 1 1 1 1 1 1 1 1 1 1 1 1 1 7 7 7 1 1 1 1 1 1 1 1 1 1 1 1 1 1 1 1 7 7\n",
       "     7 7 7 7 1 1 1 1 1 1 1 1 1 1 1 1 1 1 1 1 1 1 1 1 1 1 1 1 1 1 1 1 1 1 1 1 1 1 7 7\n",
       "      7 7 7 1 1 1 1 1 1 1 1 1 1 1 1 1 1 1 1 1 1 1 1 1 1 1 1 1 1 1 1 1 1 1 1 1 1 1 7\n",
       "       7 7 7 1 1 1 1 1 1 1 1 1 1 1 1 1 1 1 1 1 1 1 1 1 1 1 1 1 1 1 1 1 1 1 1 1 1 7\n",
       "        7 7 1 1 1 1 1 1 1 1 1 1 1 1 1 1 1 1 1 1 1 1 1 1 1 1 1 1 1 1 1 1 1 1 1 1 1\n",
       "         7 7 1 1 1 1 1 1 1 1 1 1 1 1 1 1 1 1 1 1 1 1 1 1 1 1 1 1 1 1 1 1 1 1 1 1\n",
       "          7 1 1 1 1 1 1 1 1 1 1 1 1 1 1 1 1 1 1 1 1 1 1 1 1 1 1 1 1 1 1 1 1 1 1\n",
       "           1 1 1 1 1 1 1 1 1 1 1 1 1 1 1 1 1 1 1 1 1 1 1 1 1 1 1 1 1 1 1 1 1 1\n",
       "            1 1 1 1 1 1 1 1 1 1 1 1 1 1 1 1 1 1 1 1 1 1 1 1 1 1 1 1 1 1 1 1 1\n",
       "             1 7 1 1 1 1 1 1 1 1 1 1 1 1 1 1 1 1 1 1 1 1 1 1 1 1 1 1 1 1 1 1\n",
       "              7 7 7 1 1 1 1 1 1 1 1 1 1 1 1 1 1 1 1 1 1 1 1 1 1 1 1 1 1 1 7\n",
       "               7 7 7 7 1 1 1 1 1 1 1 1 1 1 1 1 1 1 1 1 1 1 1 1 1 1 1 1 7 7\n",
       "                7 7 7 7 7 1 1 1 1 1 1 1 1 1 1 1 1 1 1 1 1 1 1 1 1 1 7 7 7\n",
       "                 7 7 7 7 7 7 1 1 1 1 1 1 1 1 1 1 1 1 1 1 1 1 1 1 7 7 7 7\n",
       "                  7 7 7 7 7 7 7 1 1 1 1 1 1 1 1 1 1 1 1 1 1 1 7 7 7 7 7\n",
       "                   7 7 7 7 7 7 7 7 1 1 1 1 1 1 1 1 1 1 1 1 7 7 7 7 7 7\n",
       "                    7 7 7 7 7 7 7 7 7 1 1 1 1 1 1 1 1 1 7 7 7 7 7 7 7\n",
       "                     7 7 7 7 7 7 7 7 7 7 1 1 1 1 1 1 7 7 7 7 7 7 7 7\n",
       "                      7 7 7 7 7 7 7 7 7 7 7 1 1 1 7 7 7 7 7 7 7 7 7\n",
       "                      7 7 7 7 7 7 7 7 7 7 7 7 9 9 9 7 7 7 7 7 7 7 7\n",
       "                     7 7 7 7 7 7 7 7 7 7 7 9 9 9 9 9 9 7 7 7 7 7 7 7\n",
       "                    7 7 7 7 7 7 7 7 7 7 9 9 9 9 9 9 9 9 9 7 7 7 7 7 7\n",
       "                   7 7 7 7 7 7 7 7 7 9 9 9 9 9 9 9 9 9 9 9 9 7 7 7 7 7\n",
       "                  7 7 7 7 7 7 7 7 9 9 9 9 9 9 9 9 9 9 9 9 9 9 9 7 7 7 7\n",
       "                 7 7 7 7 7 7 7 9 9 9 9 9 9 9 9 9 9 9 9 9 9 9 9 9 9 7 7 7\n",
       "                7 7 7 7 7 7 9 9 9 9 9 9 9 9 9 9 9 9 9 9 9 9 9 9 9 9 9 7 7\n",
       "               7 7 7 7 7 9 9 9 9 9 9 9 9 9 9 9 9 9 9 9 9 9 9 9 9 9 9 9 9 7\n",
       "              7 7 7 7 9 9 9 9 9 9 9 9 9 9 9 9 9 9 9 9 9 9 9 9 9 9 9 9 9 9 9\n",
       "             7 7 7 9 9 9 9 9 9 9 9 9 9 9 9 9 9 9 9 9 9 9 9 9 9 9 9 9 9 9 9 9\n",
       "            9 7 9 9 9 9 9 9 9 9 9 9 9 9 9 9 9 9 9 9 9 9 9 9 9 9 9 9 9 9 9 9 9\n",
       "           9 9 9 9 9 9 9 9 9 9 9 9 9 9 9 9 9 9 9 9 9 9 9 9 9 9 9 9 9 9 9 9 9 9\n",
       "          9 9 9 9 9 9 9 9 9 9 9 9 9 9 9 9 9 9 9 9 9 9 9 9 9 9 9 9 9 9 9 9 9 9 9\n",
       "         9 9 7 9 9 9 9 9 9 9 9 9 9 9 9 9 9 9 9 9 9 9 9 9 9 9 9 9 9 9 9 9 9 9 9 9\n",
       "        9 7 7 9 9 9 9 9 9 9 9 9 9 9 9 9 9 9 9 9 9 9 9 9 9 9 9 9 9 9 9 9 9 9 9 9 9\n",
       "       9 7 7 7 9 9 9 9 9 9 9 9 9 9 9 9 9 9 9 9 9 9 9 9 9 9 9 9 9 9 9 9 9 9 9 9 9 9\n",
       "      7 7 7 7 9 9 9 9 9 9 9 9 9 9 9 9 9 9 9 9 9 9 9 9 9 9 9 9 9 9 9 9 9 9 9 9 9 9 9\n",
       "     7 7 7 7 7 9 9 9 9 9 9 9 9 9 9 9 9 9 9 9 9 9 9 9 9 9 9 9 9 9 9 9 9 9 9 9 9 9 9 7\n",
       "    7 7 7 7 7 9 9 9 9 9 9 9 9 9 9 9 9 9 9 9 9 7 7 7 9 9 9 9 9 9 9 9 9 9 9 9 9 9 9 9 7\n",
       "   7 7 7 7 7 7 9 9 9 9 9 9 9 9 9 9 9 9 9 9 7 7 7 7 7 7 9 9 9 9 9 9 9 9 9 9 9 9 9 9 7 7\n",
       "  7 7 7 7 7 7 9 9 9 9 9 9 9 9 9 9 9 9 9 9 7 7 7 7 7 7 7 9 9 9 9 9 9 9 9 9 9 9 9 9 9 7 7\n",
       " 7 7 7 7 7 7 7 9 9 9 9 9 9 9 9 9 9 9 9 9 7 7 7 7 7 7 7 7 9 9 9 9 9 9 9 9 9 9 9 9 9 7 7 7\n",
       "7 7 7 7 7 7 7 9 9 9 9 9 9 9 9 9 9 9 9 9 9 7 7 7 7 7 7 7 9 9 9 9 9 9 9 9 9 9 9 9 9 9 7 7 7\n",
       " 7 7 7 7 7 7 7 9 9 9 9 9 9 9 9 9 9 9 9 9 7 7 7 7 7 7 7 7 9 9 9 9 9 9 9 9 9 9 9 9 9 7 7 7\n",
       "  7 7 7 7 7 7 9 9 9 9 9 9 9 9 9 9 9 9 9 9 7 7 7 7 7 7 7 9 9 9 9 9 9 9 9 9 9 9 9 9 9 7 7\n",
       "   7 7 7 7 7 7 9 9 9 9 9 9 9 9 9 9 9 9 9 9 7 7 7 7 7 7 9 9 9 9 9 9 9 9 9 9 9 9 9 9 7 7\n",
       "    7 7 7 7 7 9 9 9 9 9 9 9 9 9 9 9 9 9 9 9 9 7 7 7 9 9 9 9 9 9 9 9 9 9 9 9 9 9 9 9 7\n",
       "     7 7 7 7 7 9 9 9 9 9 9 9 9 9 9 9 9 9 9 9 9 9 9 9 9 9 9 9 9 9 9 9 9 9 9 9 9 9 9 7\n",
       "      7 7 7 7 9 9 9 9 9 9 9 9 9 9 9 9 9 9 9 9 9 9 9 9 9 9 9 9 9 9 9 9 9 9 9 9 9 9 9\n",
       "       7 7 7 7 9 9 9 9 9 9 9 9 9 9 9 9 9 9 9 9 9 9 9 9 9 9 9 9 9 9 9 9 9 9 9 9 9 9\n",
       "        7 7 7 9 9 9 9 9 9 9 9 9 9 9 9 9 9 9 9 9 9 9 9 9 9 9 9 9 9 9 9 9 9 9 9 9 9\n",
       "         9 7 7 9 9 9 9 9 9 9 9 9 9 9 9 9 9 9 9 9 9 9 9 9 9 9 9 9 9 9 9 9 9 9 9 9\n",
       "          9 7 9 9 9 9 9 9 9 9 9 9 9 9 9 9 9 9 9 9 9 9 9 9 9 9 9 9 9 9 9 9 9 9 9\n",
       "           9 9 9 9 9 9 9 9 9 9 9 9 9 9 9 9 9 9 9 9 9 9 9 9 9 9 9 9 9 9 9 9 9 9\n",
       "            9 9 9 9 9 9 9 9 9 9 9 9 9 9 9 9 9 9 9 9 9 9 9 9 9 9 9 9 9 9 9 9 9\n",
       "             9 9 7 9 9 9 9 9 9 9 9 9 9 9 9 9 9 9 9 9 9 9 9 9 9 9 9 9 9 9 9 9\n",
       "              9 7 7 7 9 9 9 9 9 9 9 9 9 9 9 9 9 9 9 9 9 9 9 9 9 9 9 9 9 9 9\n",
       "               7 7 7 7 7 9 9 9 9 9 9 9 9 9 9 9 9 9 9 9 9 9 9 9 9 9 9 9 9 7\n",
       "                7 7 7 7 7 7 9 9 9 9 9 9 9 9 9 9 9 9 9 9 9 9 9 9 9 9 9 7 7\n",
       "                 7 7 7 7 7 7 7 9 9 9 9 9 9 9 9 9 9 9 9 9 9 9 9 9 9 7 7 7\n",
       "                  7 7 7 7 7 7 7 7 9 9 9 9 9 9 9 9 9 9 9 9 9 9 9 7 7 7 7\n",
       "                   7 7 7 7 7 7 7 7 7 9 9 9 9 9 9 9 9 9 9 9 9 7 7 7 7 7\n",
       "                    7 7 7 7 7 7 7 7 7 7 9 9 9 9 9 9 9 9 9 7 7 7 7 7 7\n",
       "                     7 7 7 7 7 7 7 7 7 7 7 9 9 9 9 9 9 7 7 7 7 7 7 7\n",
       "                      7 7 7 7 7 7 7 7 7 7 7 7 9 9 9 7 7 7 7 7 7 7 7"
      ]
     },
     "execution_count": 83,
     "metadata": {},
     "output_type": "execute_result"
    }
   ],
   "source": [
    "lat"
   ]
  },
  {
   "cell_type": "code",
   "execution_count": 104,
   "metadata": {},
   "outputs": [],
   "source": [
    "with open('lat.txt','w') as f:\n",
    "    f.write(lat.show_indices(8, orientation='x'))"
   ]
  },
  {
   "cell_type": "code",
   "execution_count": 105,
   "metadata": {},
   "outputs": [
    {
     "name": "stdout",
     "output_type": "stream",
     "text": [
      "BASE 28\n",
      "BASE 29\n",
      "BASE 30\n",
      "BASE 31\n",
      "BASE 32\n",
      "BASE 33\n",
      "BASE 34\n"
     ]
    }
   ],
   "source": [
    "for i in range(28,35):\n",
    "    if uni_base == unis[1][-8][i]:\n",
    "        print('BASE', i)\n",
    "        unis[1][-8][i] = uni_base.clone()"
   ]
  },
  {
   "cell_type": "code",
   "execution_count": 103,
   "metadata": {},
   "outputs": [],
   "source": [
    "with open('lat.txt', 'w') as f:\n",
    "    f.write(str(lat))"
   ]
  },
  {
   "cell_type": "code",
   "execution_count": 116,
   "metadata": {},
   "outputs": [],
   "source": [
    "[6, 7, 8, 1,]\n",
    "\n",
    "uni_standards = [geom.get_all_universes()[1],\n",
    "                 geom.get_all_universes()[4],\n",
    "                 geom.get_all_universes()[6],\n",
    "                 geom.get_all_universes()[7],\n",
    "                 geom.get_all_universes()[8],\n",
    "                 geom.get_all_universes()[9]]\n",
    "\n",
    "bins = []\n",
    "for v in geom.get_all_universes().values():\n",
    "    if v not in uni_standards:\n",
    "        bins.append(v)"
   ]
  },
  {
   "cell_type": "code",
   "execution_count": 117,
   "metadata": {},
   "outputs": [
    {
     "data": {
      "text/plain": [
       "36"
      ]
     },
     "execution_count": 117,
     "metadata": {},
     "output_type": "execute_result"
    }
   ],
   "source": [
    "len(bins)"
   ]
  },
  {
   "cell_type": "code",
   "execution_count": 119,
   "metadata": {},
   "outputs": [],
   "source": [
    "uni_filter = openmc.UniverseFilter(bins)"
   ]
  },
  {
   "cell_type": "code",
   "execution_count": 120,
   "metadata": {},
   "outputs": [
    {
     "data": {
      "text/plain": [
       "UniverseFilter\n",
       "\tBins           =\t[51 52 53 54 55 56 57 39 40 41 42 43 44 45 46 47 48 49 50 26 28 29 30 31\n",
       " 32 33 34 35 36 37 38  2  3 10 17 25]\n",
       "\tID             =\t1"
      ]
     },
     "execution_count": 120,
     "metadata": {},
     "output_type": "execute_result"
    }
   ],
   "source": [
    "uni_filter"
   ]
  },
  {
   "cell_type": "code",
   "execution_count": 121,
   "metadata": {},
   "outputs": [],
   "source": [
    "tally = openmc.Tally()"
   ]
  },
  {
   "cell_type": "code",
   "execution_count": 122,
   "metadata": {},
   "outputs": [],
   "source": [
    "tally.scores = ['heating', 'heating-local', 'kappa-fission']\n",
    "tally.filters = [uni_filter]"
   ]
  },
  {
   "cell_type": "code",
   "execution_count": 123,
   "metadata": {},
   "outputs": [
    {
     "data": {
      "text/plain": [
       "Tally\n",
       "\tID             =\t1\n",
       "\tName           =\t\n",
       "\tFilters        =\tUniverseFilter\n",
       "\tNuclides       =\t\n",
       "\tScores         =\t['heating', 'heating-local', 'kappa-fission']\n",
       "\tEstimator      =\tNone"
      ]
     },
     "execution_count": 123,
     "metadata": {},
     "output_type": "execute_result"
    }
   ],
   "source": [
    "tally"
   ]
  },
  {
   "cell_type": "code",
   "execution_count": 124,
   "metadata": {},
   "outputs": [],
   "source": [
    "tallies = openmc.Tallies()\n",
    "tallies.append(tally)"
   ]
  },
  {
   "cell_type": "code",
   "execution_count": 126,
   "metadata": {},
   "outputs": [],
   "source": [
    "tallies.export_to_xml()"
   ]
  },
  {
   "cell_type": "code",
   "execution_count": 129,
   "metadata": {},
   "outputs": [],
   "source": [
    "geom.export_to_xml()"
   ]
  },
  {
   "cell_type": "code",
   "execution_count": 131,
   "metadata": {},
   "outputs": [],
   "source": [
    "mats = openmc.Materials()\n",
    "\n",
    "for v in geom.get_all_materials().values():\n",
    "    mats.append(v)"
   ]
  },
  {
   "cell_type": "code",
   "execution_count": 133,
   "metadata": {},
   "outputs": [],
   "source": [
    "mats.export_to_xml()"
   ]
  },
  {
   "cell_type": "code",
   "execution_count": 251,
   "metadata": {},
   "outputs": [],
   "source": [
    "sp = openmc.StatePoint('statepoint.10.h5')"
   ]
  },
  {
   "cell_type": "code",
   "execution_count": 157,
   "metadata": {},
   "outputs": [
    {
     "ename": "TypeError",
     "evalue": "'UniverseFilter' object does not support indexing",
     "output_type": "error",
     "traceback": [
      "\u001b[0;31m---------------------------------------------------------------------------\u001b[0m",
      "\u001b[0;31mTypeError\u001b[0m                                 Traceback (most recent call last)",
      "\u001b[0;32m<ipython-input-157-582351a1ce82>\u001b[0m in \u001b[0;36m<module>\u001b[0;34m\u001b[0m\n\u001b[1;32m      1\u001b[0m \u001b[0;32mfor\u001b[0m \u001b[0melem\u001b[0m \u001b[0;32min\u001b[0m \u001b[0mnp\u001b[0m\u001b[0;34m.\u001b[0m\u001b[0margsort\u001b[0m\u001b[0;34m(\u001b[0m\u001b[0msp\u001b[0m\u001b[0;34m.\u001b[0m\u001b[0mget_tally\u001b[0m\u001b[0;34m(\u001b[0m\u001b[0mscores\u001b[0m\u001b[0;34m=\u001b[0m\u001b[0;34m[\u001b[0m\u001b[0;34m'kappa-fission'\u001b[0m\u001b[0;34m]\u001b[0m\u001b[0;34m)\u001b[0m\u001b[0;34m.\u001b[0m\u001b[0mmean\u001b[0m\u001b[0;34m[\u001b[0m\u001b[0;34m:\u001b[0m\u001b[0;34m,\u001b[0m\u001b[0;36m0\u001b[0m\u001b[0;34m,\u001b[0m\u001b[0;36m2\u001b[0m\u001b[0;34m]\u001b[0m\u001b[0;34m)\u001b[0m\u001b[0;34m:\u001b[0m\u001b[0;34m\u001b[0m\u001b[0;34m\u001b[0m\u001b[0m\n\u001b[0;32m----> 2\u001b[0;31m     \u001b[0mprint\u001b[0m\u001b[0;34m(\u001b[0m\u001b[0muni_filter\u001b[0m\u001b[0;34m[\u001b[0m\u001b[0melem\u001b[0m\u001b[0;34m]\u001b[0m\u001b[0;34m)\u001b[0m\u001b[0;34m\u001b[0m\u001b[0;34m\u001b[0m\u001b[0m\n\u001b[0m",
      "\u001b[0;31mTypeError\u001b[0m: 'UniverseFilter' object does not support indexing"
     ]
    }
   ],
   "source": [
    "engy = 0.\n",
    "ind = 0\n",
    "for elem, b in enumerate(uni_filter.bins):\n",
    "    if sp.get_tally(scores=['kappa-fission']).mean[:,0,2] > engy:\n",
    "        engy = sp.get_tally(scores=['kappa-fission']).mean[:,0,2]\n",
    "        ind = elem\n",
    "        max_uni = \n",
    "    \n",
    "for elem in sp.get_tally(scores=['kappa-fission']).mean[:,0,2]):\n",
    "    print(uni_filter[elem])"
   ]
  },
  {
   "cell_type": "code",
   "execution_count": 161,
   "metadata": {},
   "outputs": [
    {
     "data": {
      "text/plain": [
       "86758.38079346444"
      ]
     },
     "execution_count": 161,
     "metadata": {},
     "output_type": "execute_result"
    }
   ],
   "source": [
    "sp.get_tally(scores=['kappa-fission']).mean[30,0,2]"
   ]
  },
  {
   "cell_type": "code",
   "execution_count": 160,
   "metadata": {},
   "outputs": [
    {
     "data": {
      "text/plain": [
       "51"
      ]
     },
     "execution_count": 160,
     "metadata": {},
     "output_type": "execute_result"
    }
   ],
   "source": [
    "uni_filter.bins[0]"
   ]
  },
  {
   "cell_type": "code",
   "execution_count": 162,
   "metadata": {},
   "outputs": [
    {
     "data": {
      "text/plain": [
       "0.0011001988510019967"
      ]
     },
     "execution_count": 162,
     "metadata": {},
     "output_type": "execute_result"
    }
   ],
   "source": [
    "86758.38079346444/7.8857e+07"
   ]
  },
  {
   "cell_type": "code",
   "execution_count": 163,
   "metadata": {},
   "outputs": [
    {
     "data": {
      "text/plain": [
       "5.500994255009983"
      ]
     },
     "execution_count": 163,
     "metadata": {},
     "output_type": "execute_result"
    }
   ],
   "source": [
    "0.0011001988510019967*5000"
   ]
  },
  {
   "cell_type": "code",
   "execution_count": 166,
   "metadata": {},
   "outputs": [
    {
     "data": {
      "text/plain": [
       "(array([-1.39300186,        -inf,        -inf]),\n",
       " array([1.39300186,        inf,        inf]))"
      ]
     },
     "execution_count": 166,
     "metadata": {},
     "output_type": "execute_result"
    }
   ],
   "source": [
    "geom.get_all_universes()[38].bounding_box"
   ]
  },
  {
   "cell_type": "code",
   "execution_count": 175,
   "metadata": {},
   "outputs": [
    {
     "data": {
      "text/plain": [
       "(1, 2, 100)"
      ]
     },
     "execution_count": 175,
     "metadata": {},
     "output_type": "execute_result"
    }
   ],
   "source": [
    "lat.find_point()"
   ]
  },
  {
   "cell_type": "code",
   "execution_count": 179,
   "metadata": {},
   "outputs": [
    {
     "name": "stdout",
     "output_type": "stream",
     "text": [
      "                              (0,20)      (0,21)      (0,22)      (0,23)      (0,24)      (0,25)\n",
      "\n",
      "                        (0,19)      (1,16)      (1,17)      (1,18)      (1,19)      (1,20)      (0,26)\n",
      "\n",
      "                  (0,18)      (1,15)      (2,12)      (2,13)      (2,14)      (2,15)      (1,21)      (0,27)\n",
      "\n",
      "            (0,17)      (1,14)      (2,11)      (3, 8)      (3, 9)      (3,10)      (2,16)      (1,22)      (0,28)\n",
      "\n",
      "      (0,16)      (1,13)      (2,10)      (3, 7)      (4, 4)      (4, 5)      (3,11)      (2,17)      (1,23)      (0,29)\n",
      "\n",
      "(0,15)      (1,12)      (2, 9)      (3, 6)      (4, 3)      (5, 0)      (4, 0)      (3, 0)      (2, 0)      (1, 0)      (0, 0)\n",
      "\n",
      "      (0,14)      (1,11)      (2, 8)      (3, 5)      (4, 2)      (4, 1)      (3, 1)      (2, 1)      (1, 1)      (0, 1)\n",
      "\n",
      "            (0,13)      (1,10)      (2, 7)      (3, 4)      (3, 3)      (3, 2)      (2, 2)      (1, 2)      (0, 2)\n",
      "\n",
      "                  (0,12)      (1, 9)      (2, 6)      (2, 5)      (2, 4)      (2, 3)      (1, 3)      (0, 3)\n",
      "\n",
      "                        (0,11)      (1, 8)      (1, 7)      (1, 6)      (1, 5)      (1, 4)      (0, 4)\n",
      "\n",
      "                              (0,10)      (0, 9)      (0, 8)      (0, 7)      (0, 6)      (0, 5)\n"
     ]
    }
   ],
   "source": [
    "print(lat.show_indices(6, orientation='x'))"
   ]
  },
  {
   "cell_type": "code",
   "execution_count": 199,
   "metadata": {},
   "outputs": [
    {
     "data": {
      "text/plain": [
       "Universe\n",
       "\tID             =\t38\n",
       "\tName           =\t\n",
       "\tCells          =\t[311, 312, 313, 314, 315, 316, 317, 318, 319, 320]"
      ]
     },
     "execution_count": 199,
     "metadata": {},
     "output_type": "execute_result"
    }
   ],
   "source": [
    "lat.universes[1][17][26]"
   ]
  },
  {
   "cell_type": "code",
   "execution_count": 206,
   "metadata": {},
   "outputs": [
    {
     "name": "stdout",
     "output_type": "stream",
     "text": [
      "(1, 4, 1)\n"
     ]
    }
   ],
   "source": [
    "for i in range(100):\n",
    "    for j in range(100):\n",
    "        try:\n",
    "            uni_ind = lat.get_universe_index((i,j,1))\n",
    "        except:\n",
    "            continue\n",
    "        if uni_ind == (1,17,26):\n",
    "            print((i,j,1))\n",
    "            break"
   ]
  },
  {
   "cell_type": "code",
   "execution_count": 218,
   "metadata": {},
   "outputs": [
    {
     "name": "stdout",
     "output_type": "stream",
     "text": [
      "6.968968968968969 9.75075075075075\n",
      "8.05005005005005 11.254254254254255\n"
     ]
    }
   ],
   "source": [
    "x_elem = []\n",
    "y_elem = []\n",
    "for x in np.linspace(5,12):\n",
    "    for y in np.linspace(5,16):\n",
    "        if lat.find_element((x,y,0))[0] == (1,4,1):\n",
    "            x_elem.append(x)\n",
    "            y_elem.append(y)\n",
    "            \n",
    "print(min(x_elem), max(x_elem))\n",
    "print(min(y_elem), max(y_elem))"
   ]
  },
  {
   "cell_type": "code",
   "execution_count": 207,
   "metadata": {},
   "outputs": [
    {
     "data": {
      "text/plain": [
       "(1, 17, 26)"
      ]
     },
     "execution_count": 207,
     "metadata": {},
     "output_type": "execute_result"
    }
   ],
   "source": [
    "lat.get_universe_index((1,4,1))"
   ]
  },
  {
   "cell_type": "code",
   "execution_count": 216,
   "metadata": {},
   "outputs": [
    {
     "data": {
      "text/plain": [
       "2.7142857142857153"
      ]
     },
     "execution_count": 216,
     "metadata": {},
     "output_type": "execute_result"
    }
   ],
   "source": [
    "9.714285714285715 - 7.0"
   ]
  },
  {
   "cell_type": "code",
   "execution_count": 219,
   "metadata": {},
   "outputs": [],
   "source": [
    "mesh = openmc.RectilinearMesh()\n",
    "mesh.x_grid = [6.96, 9.751]\n",
    "mesh.y_grid = [8.05, 11.255]\n",
    "mesh.z_grid = np.linspace(-75,75, num=100)"
   ]
  },
  {
   "cell_type": "code",
   "execution_count": 220,
   "metadata": {},
   "outputs": [
    {
     "data": {
      "text/plain": [
       "<openmc.mesh.RectilinearMesh at 0x7fb6b5735a90>"
      ]
     },
     "execution_count": 220,
     "metadata": {},
     "output_type": "execute_result"
    }
   ],
   "source": [
    "mesh"
   ]
  },
  {
   "cell_type": "code",
   "execution_count": 222,
   "metadata": {},
   "outputs": [
    {
     "name": "stdout",
     "output_type": "stream",
     "text": [
      "<Element 'mesh' at 0x7fb6b72b61d8>\n"
     ]
    }
   ],
   "source": []
  },
  {
   "cell_type": "code",
   "execution_count": 223,
   "metadata": {},
   "outputs": [
    {
     "data": {
      "text/plain": [
       "5.35589376417446"
      ]
     },
     "execution_count": 223,
     "metadata": {},
     "output_type": "execute_result"
    }
   ],
   "source": [
    "85725.9/8.00295e+07*5000"
   ]
  },
  {
   "cell_type": "code",
   "execution_count": 226,
   "metadata": {},
   "outputs": [
    {
     "data": {
      "text/plain": [
       "5.376972911567464"
      ]
     },
     "execution_count": 226,
     "metadata": {},
     "output_type": "execute_result"
    }
   ],
   "source": [
    "78382.5/7.28872e+07*5000"
   ]
  },
  {
   "cell_type": "code",
   "execution_count": 228,
   "metadata": {},
   "outputs": [
    {
     "data": {
      "text/plain": [
       "-0.16333938294009898"
      ]
     },
     "execution_count": 228,
     "metadata": {},
     "output_type": "execute_result"
    }
   ],
   "source": [
    "(5.501-5.51)/5.51*100"
   ]
  },
  {
   "cell_type": "code",
   "execution_count": 256,
   "metadata": {},
   "outputs": [
    {
     "data": {
      "image/png": "[encoded data removed]",
      "text/plain": [
       "<Figure size 432x288 with 1 Axes>"
      ]
     },
     "metadata": {},
     "output_type": "display_data"
    }
   ],
   "source": [
    "plt.errorbar(np.linspace(0,150,num=150), sp.tallies[3].mean[:,0,1]/np.mean(sp.tallies[3].mean[:,0,1]), yerr=sp.tallies[3].std_dev[:,0,1]/np.mean(sp.tallies[3].mean[:,0,1]))\n",
    "plt.grid()\n",
    "plt.ylabel('Peak-to-Average Heat Generation')\n",
    "plt.xlabel('Axial Pin Location (cm)')\n",
    "plt.title('Relative Heat Generation in Maximum Power Pin')\n",
    "plt.savefig('maxpin.png', dpi=400)"
   ]
  },
  {
   "cell_type": "code",
   "execution_count": 261,
   "metadata": {},
   "outputs": [],
   "source": [
    "src_str = sp.tallies[3].mean[:,0,2]/np.mean(sp.tallies[3].mean[:,0,2])\n",
    "z_val = np.linspace(-74.5, 74.5, num=150)\n",
    "\n",
    "with open('src.txt', 'w') as f:\n",
    "    for i in range(150):\n",
    "        f.write(src.format(str=src_str[i], z=z_val[i]))"
   ]
  },
  {
   "cell_type": "code",
   "execution_count": 259,
   "metadata": {},
   "outputs": [],
   "source": [
    "src = \"\"\"\n",
    "<source strength=\"{str}\">\n",
    "    <space type=\"point\">\n",
    "      <parameters>0 0 {z}</parameters>\n",
    "    </space>\n",
    "</source>\"\"\""
   ]
  },
  {
   "cell_type": "code",
   "execution_count": 268,
   "metadata": {},
   "outputs": [
    {
     "data": {
      "text/plain": [
       "5.440335309290022"
      ]
     },
     "execution_count": 268,
     "metadata": {},
     "output_type": "execute_result"
    }
   ],
   "source": [
    "sp.tallies[2].mean[0,0,2]/sp.tallies[1].mean[0,0,2]*5000"
   ]
  },
  {
   "cell_type": "code",
   "execution_count": null,
   "metadata": {},
   "outputs": [],
   "source": []
  }
 ],
 "metadata": {
  "kernelspec": {
   "display_name": "Python 3",
   "language": "python",
   "name": "python3"
  },
  "language_info": {
   "codemirror_mode": {
    "name": "ipython",
    "version": 3
   },
   "file_extension": ".py",
   "mimetype": "text/x-python",
   "name": "python",
   "nbconvert_exporter": "python",
   "pygments_lexer": "ipython3",
   "version": "3.6.8"
  }
 },
 "nbformat": 4,
 "nbformat_minor": 2
}
